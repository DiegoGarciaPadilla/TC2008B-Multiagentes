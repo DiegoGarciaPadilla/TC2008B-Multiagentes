{
 "cells": [
  {
   "cell_type": "markdown",
   "metadata": {},
   "source": [
    "# M1. Actividad\n",
    "\n",
    "**Nombre:** Diego Antonio García Padilla.\n",
    "\n",
    "**Matrícula:** A01710777.\n",
    "\n",
    "## Descripción del Sistema de 'Recolección de Alimentos'\n",
    "\n",
    "### Objetivo del Sistema\n",
    "\n",
    "Desarrollar un sistema donde agentes llamados 'exploradores' buscan comida y la llevan de vuelta a su base. Los exploradores se desplazan buscando celdas con alimentos y regresan a la base una vez que encuentran un recurso.\n",
    "\n",
    "### Características del Sistema:\n",
    "\n",
    "- **Energía del Explorador:** Cada explorador comienza con una energía máxima de X unidades, y cada movimiento consume 1 unidad de energía. Al llegar a la base, el explorador recarga completamente su energía.\n",
    "- **Ubicación de la Base:** La base siempre se encuentra en el centro del área de búsqueda.\n",
    "- **Parámetros del Sistema:**\n",
    "  - Un área de NxN celdas.\n",
    "  - Un número específico de exploradores.\n",
    "  - Una base fija en una celda determinada.\n",
    "  - Un número de recursos.\n",
    "  - Un máximo de energía que los exploradores pueden tener.\n",
    "\n",
    "### Distribución de Agentes y Recursos:\n",
    "\n",
    "- Tanto los agentes como los recursos se distribuyen aleatoriamente al inicio de la simulación.\n",
    "\n",
    "### Comportamiento por Paso:\n",
    "\n",
    "- Si la celda contiene recursos, el agente los recoge y regresa a la base.\n",
    "- Si la celda no contiene recursos, el agente elige una dirección aleatoria para moverse (una de las 4 celdas vecinas) a una celda sin otro agente. Si no puede moverse allí, permanecerá en la misma celda.\n",
    "\n",
    "## Instrucciones para la Simulación y el Análisis:\n",
    "\n",
    "### Simulación Inicial:\n",
    "\n",
    "- Ejecuta una simulación para una matriz de 11x11 con 5 exploradores y 20 recursos.\n",
    "- Todos los agentes deben empezar con 100 unidades de energía.\n",
    "- Muestra gráficamente el comportamiento del modelo.\n",
    "\n",
    "### Análisis de Eficiencia:\n",
    "\n",
    "- Analiza cómo la cantidad de exploradores y recursos influye en la eficiencia de la recolección de recursos.\n",
    "- La eficiencia se medirá observando la cantidad de energía que cada explorador consume durante el proceso de búsqueda y recolección de recursos.\n",
    "- Para ello, realiza pruebas en un espacio de 15x15 con:\n",
    "  - 5 y 10 exploradores.\n",
    "  - 15, 20 y 30 recursos.\n",
    "- Presenta los hallazgos en el informe, incluyendo gráficos y tablas según sea necesario."
   ]
  },
  {
   "cell_type": "code",
   "execution_count": 1,
   "metadata": {},
   "outputs": [],
   "source": [
    "# Descargar mesa y seaborn\n",
    "!pip install mesa seaborn --quiet"
   ]
  },
  {
   "cell_type": "code",
   "execution_count": 2,
   "metadata": {},
   "outputs": [],
   "source": [
    "# Importamos las clases que se requieren para manejar los agentes (Agent) y su entorno (Model).\n",
    "# Cada modelo puede contener múltiples agentes.\n",
    "from mesa import Agent, Model\n",
    "\n",
    "# Debido a que necesitamos que existe un solo agente por celda, elegimos ''SingleGrid''.\n",
    "from mesa.space import SingleGrid\n",
    "\n",
    "# Con ''SimultaneousActivation, hacemos que todos los agentes se activen ''al mismo tiempo''.\n",
    "from mesa.time import SimultaneousActivation\n",
    "\n",
    "# Haremos uso de ''DataCollector'' para obtener información de cada paso de la simulación.\n",
    "from mesa.datacollection import DataCollector\n",
    "\n",
    "# matplotlib lo usaremos crear una animación de cada uno de los pasos del modelo.\n",
    "%matplotlib inline\n",
    "import matplotlib\n",
    "import matplotlib.pyplot as plt\n",
    "import matplotlib.animation as animation\n",
    "plt.rcParams[\"animation.html\"] = \"jshtml\"\n",
    "matplotlib.rcParams['animation.embed_limit'] = 2**128\n",
    "\n",
    "# Importamos los siguientes paquetes para el mejor manejo de valores numéricos.\n",
    "import numpy as np\n",
    "import pandas as pd\n",
    "\n",
    "# Definimos otros paquetes que vamos a usar para medir el tiempo de ejecución de nuestro algoritmo.\n",
    "import time\n",
    "import datetime"
   ]
  }
 ],
 "metadata": {
  "kernelspec": {
   "display_name": ".venv",
   "language": "python",
   "name": "python3"
  },
  "language_info": {
   "codemirror_mode": {
    "name": "ipython",
    "version": 3
   },
   "file_extension": ".py",
   "mimetype": "text/x-python",
   "name": "python",
   "nbconvert_exporter": "python",
   "pygments_lexer": "ipython3",
   "version": "3.13.0"
  }
 },
 "nbformat": 4,
 "nbformat_minor": 2
}

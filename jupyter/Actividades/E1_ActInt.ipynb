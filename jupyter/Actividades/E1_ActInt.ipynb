{
 "cells": [
  {
   "cell_type": "markdown",
   "metadata": {},
   "source": [
    "# Ordenando un patio de maniobras \n",
    "\n",
    "## Descripción\n",
    "\n",
    "¡Felicidades! Eres el nuevo gerente de una patio de maniobras muy soleada, ideal para la eficiencia energética de tus equipos. Te han asignado cinco robots innovadores para ayudarte a organizar el espacio. El patio está en completo desorden debido al gerente anterior, así que tu tarea es coordinar a los robots para organizar las cajas y hacer que el patio de labores funcione de manera eficiente.\n",
    "\n",
    "Cada robot tiene ruedas omnidireccionales, lo que les permite moverse en las cuatro direcciones. Además, pueden recoger cajas en celdas adyacentes y transportarlas a cualquier otra ubicación, incluso apilándolas en torres de hasta cinco cajas. Los robots están equipados con sensores avanzados que les permiten detectar lo que hay en las cuatro celdas alrededor de ellos: puede ser una celda vacía, una pared, una pila de cajas (y cuántas cajas contiene) o incluso otro robot. También saben cuándo están llevando una caja gracias a sus sensores de presión.\n",
    "\n",
    "Cada robot consume una unidad de energía por cada celda que se desplaza. Inicialmente, cada robot dispone de 200 unidades de energía, permitiéndoles moverse una cantidad razonable antes de requerir recarga. Además, los robots están equipados con celdas fotovoltaicas para aprovechar la abundante luz solar en este espacio abierto. Cuando un robot necesita recargarse, debe permanecer inactivo durante 10 pasos de simulación para completar el proceso de recarga.\n",
    "\n",
    "Tu misión es desarrollar una estrategia para organizar todas las cajas en pilas de exactamente cinco unidades cada una. Debes minimizar la distancia total recorrida por los robots, reducir el tiempo total de recarga y disminuir la cantidad de recargas necesarias para cada robot.\n",
    "\n",
    "## Requerimientos\n",
    "\n",
    "- El patio de maniobras tiene un tamaño de 20 x 20 celdas.\n",
    "- Comienza con 100 cajas distribuidas aleatoriamente en el suelo del patio, sin pilas.\n",
    "- Los robots empiezan en posiciones vacías y aleatorias.\n",
    "- La simulación termina cuando todas las cajas están apiladas en columnas de cinco cajas.\n",
    "- Desarrolla dos soluciones distintas: la primera sin coordinación, basada en movimientos aleatorios de los robots, y la segunda con una estrategia coordinada. La estrategia coordinada debe buscar minimizar la distancia total recorrida por los robots, reducir el tiempo total de recarga y disminuir la cantidad de recargas necesarias para cada robot.\n",
    "- Debes crear una visualización tanto para la solución sin coordinación como para la solución con la estrategia coordinada.\n",
    "\n",
    "## Especificaciones de entrega\n",
    "\n",
    "- Deberás presentar un informe en formato PDF que describa detalladamente los mecanismos de coordinación utilizados, las estructuras de datos y los algoritmos empleados, junto con la justificación para cada elección. Además, utilizando gráficas y datos obtenidos de tus simulaciones, argumenta si la solución coordinada ha conseguido una mejora significativa. Si no es así, indica posibles cambios que podrías implementar para lograr esa mejora. Ten en cuenta que el informe debe tener una extensión mínima de una página y que los resultados basados en menos de 10 simulaciones no se considerarán fiables.\n",
    "\n",
    "- El cuaderno Jupyter que contiene tu implementación en Python.\n",
    "\n"
   ]
  },
  {
   "cell_type": "markdown",
   "metadata": {},
   "source": [
    "# Instalación e importación de librerías"
   ]
  },
  {
   "cell_type": "code",
   "execution_count": null,
   "metadata": {},
   "outputs": [],
   "source": [
    "# Descargar mesa y seaborn\n",
    "%pip install mesa seaborn --quiet"
   ]
  },
  {
   "cell_type": "code",
   "execution_count": null,
   "metadata": {},
   "outputs": [],
   "source": [
    "# Importamos las clases que se requieren para manejar los agentes (Agent) y su entorno (Model).\n",
    "# Cada modelo puede contener múltiples agentes.\n",
    "from mesa import Agent, Model\n",
    "\n",
    "# Debido a que necesitamos que existe un solo agente por celda, elegimos ''SingleGrid''.\n",
    "from mesa.space import SingleGrid\n",
    "\n",
    "# Con ''SimultaneousActivation, hacemos que todos los agentes se activen ''al mismo tiempo''.\n",
    "from mesa.time import SimultaneousActivation\n",
    "\n",
    "# Haremos uso de ''DataCollector'' para obtener información de cada paso de la simulación.\n",
    "from mesa.datacollection import DataCollector\n",
    "\n",
    "# BATCH_RUNNER\n",
    "from mesa.batchrunner import batch_run\n",
    "\n",
    "# matplotlib lo usaremos crear una animación de cada uno de los pasos del modelo.\n",
    "%matplotlib inline\n",
    "import matplotlib\n",
    "import matplotlib.pyplot as plt\n",
    "import matplotlib.animation as animation\n",
    "plt.rcParams[\"animation.html\"] = \"jshtml\"\n",
    "matplotlib.rcParams['animation.embed_limit'] = 2**128\n",
    "\n",
    "# Importamos los siguientes paquetes para el mejor manejo de valores numéricos.\n",
    "import numpy as np\n",
    "import pandas as pd\n",
    "\n",
    "# Definimos otros paquetes que vamos a usar para medir el tiempo de ejecución de nuestro algoritmo.\n",
    "import time\n",
    "import datetime\n",
    "\n",
    "# Importamos el paquete seaborn para mejorar la visualización de los datos.\n",
    "import seaborn as sns"
   ]
  }
 ],
 "metadata": {
  "kernelspec": {
   "display_name": ".venv",
   "language": "python",
   "name": "python3"
  },
  "language_info": {
   "name": "python",
   "version": "3.13.0"
  }
 },
 "nbformat": 4,
 "nbformat_minor": 2
}
